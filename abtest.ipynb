{
 "cells": [
  {
   "cell_type": "code",
   "execution_count": 22,
   "id": "1194de60",
   "metadata": {},
   "outputs": [],
   "source": [
    "import pandas as pd\n",
    "import numpy as np\n",
    "import seaborn as sns\n",
    "from scipy.stats import mannwhitneyu\n",
    "import matplotlib.pyplot as plt\n",
    "from sklearn.ensemble import RandomForestClassifier"
   ]
  },
  {
   "cell_type": "code",
   "execution_count": 23,
   "id": "0c39d372",
   "metadata": {},
   "outputs": [
    {
     "data": {
      "text/html": [
       "<div>\n",
       "<style scoped>\n",
       "    .dataframe tbody tr th:only-of-type {\n",
       "        vertical-align: middle;\n",
       "    }\n",
       "\n",
       "    .dataframe tbody tr th {\n",
       "        vertical-align: top;\n",
       "    }\n",
       "\n",
       "    .dataframe thead th {\n",
       "        text-align: right;\n",
       "    }\n",
       "</style>\n",
       "<table border=\"1\" class=\"dataframe\">\n",
       "  <thead>\n",
       "    <tr style=\"text-align: right;\">\n",
       "      <th></th>\n",
       "      <th>userid</th>\n",
       "      <th>version</th>\n",
       "      <th>sum_gamerounds</th>\n",
       "      <th>retention_1</th>\n",
       "      <th>retention_7</th>\n",
       "    </tr>\n",
       "  </thead>\n",
       "  <tbody>\n",
       "    <tr>\n",
       "      <th>0</th>\n",
       "      <td>116</td>\n",
       "      <td>gate_30</td>\n",
       "      <td>3</td>\n",
       "      <td>False</td>\n",
       "      <td>False</td>\n",
       "    </tr>\n",
       "    <tr>\n",
       "      <th>1</th>\n",
       "      <td>337</td>\n",
       "      <td>gate_30</td>\n",
       "      <td>38</td>\n",
       "      <td>True</td>\n",
       "      <td>False</td>\n",
       "    </tr>\n",
       "    <tr>\n",
       "      <th>2</th>\n",
       "      <td>377</td>\n",
       "      <td>gate_40</td>\n",
       "      <td>165</td>\n",
       "      <td>True</td>\n",
       "      <td>False</td>\n",
       "    </tr>\n",
       "    <tr>\n",
       "      <th>3</th>\n",
       "      <td>483</td>\n",
       "      <td>gate_40</td>\n",
       "      <td>1</td>\n",
       "      <td>False</td>\n",
       "      <td>False</td>\n",
       "    </tr>\n",
       "    <tr>\n",
       "      <th>4</th>\n",
       "      <td>488</td>\n",
       "      <td>gate_40</td>\n",
       "      <td>179</td>\n",
       "      <td>True</td>\n",
       "      <td>True</td>\n",
       "    </tr>\n",
       "  </tbody>\n",
       "</table>\n",
       "</div>"
      ],
      "text/plain": [
       "   userid  version  sum_gamerounds  retention_1  retention_7\n",
       "0     116  gate_30               3        False        False\n",
       "1     337  gate_30              38         True        False\n",
       "2     377  gate_40             165         True        False\n",
       "3     483  gate_40               1        False        False\n",
       "4     488  gate_40             179         True         True"
      ]
     },
     "execution_count": 23,
     "metadata": {},
     "output_type": "execute_result"
    }
   ],
   "source": [
    "df=pd.read_csv('~/Downloads/Cookie_Cats_cleaned_v01.csv')\n",
    "df.head()"
   ]
  },
  {
   "cell_type": "code",
   "execution_count": 24,
   "id": "4b9a9443",
   "metadata": {},
   "outputs": [
    {
     "name": "stderr",
     "output_type": "stream",
     "text": [
      "/var/folders/ht/qs8tmmy5007cstwcxtpn4zjr0000gn/T/ipykernel_91201/3458895375.py:1: FutureWarning: Setting an item of incompatible dtype is deprecated and will raise an error in a future version of pandas. Value '1' has dtype incompatible with bool, please explicitly cast to a compatible dtype first.\n",
      "  df.loc[df['retention_1']== True, 'retention_1'] = 1\n",
      "/var/folders/ht/qs8tmmy5007cstwcxtpn4zjr0000gn/T/ipykernel_91201/3458895375.py:3: FutureWarning: Setting an item of incompatible dtype is deprecated and will raise an error in a future version of pandas. Value '1' has dtype incompatible with bool, please explicitly cast to a compatible dtype first.\n",
      "  df.loc[df['retention_7']== True, 'retention_7'] = 1\n"
     ]
    }
   ],
   "source": [
    "df.loc[df['retention_1']== True, 'retention_1'] = 1\n",
    "df.loc[df['retention_1']== False, 'retention_1'] = 0\n",
    "df.loc[df['retention_7']== True, 'retention_7'] = 1\n",
    "df.loc[df['retention_7']== False, 'retention_7'] = 0"
   ]
  },
  {
   "cell_type": "code",
   "execution_count": 25,
   "id": "fdab25f6",
   "metadata": {},
   "outputs": [
    {
     "data": {
      "text/html": [
       "<div>\n",
       "<style scoped>\n",
       "    .dataframe tbody tr th:only-of-type {\n",
       "        vertical-align: middle;\n",
       "    }\n",
       "\n",
       "    .dataframe tbody tr th {\n",
       "        vertical-align: top;\n",
       "    }\n",
       "\n",
       "    .dataframe thead th {\n",
       "        text-align: right;\n",
       "    }\n",
       "</style>\n",
       "<table border=\"1\" class=\"dataframe\">\n",
       "  <thead>\n",
       "    <tr style=\"text-align: right;\">\n",
       "      <th></th>\n",
       "      <th>userid</th>\n",
       "      <th>version</th>\n",
       "      <th>sum_gamerounds</th>\n",
       "      <th>retention_1</th>\n",
       "      <th>retention_7</th>\n",
       "    </tr>\n",
       "  </thead>\n",
       "  <tbody>\n",
       "    <tr>\n",
       "      <th>0</th>\n",
       "      <td>116</td>\n",
       "      <td>gate_30</td>\n",
       "      <td>3</td>\n",
       "      <td>0</td>\n",
       "      <td>0</td>\n",
       "    </tr>\n",
       "    <tr>\n",
       "      <th>1</th>\n",
       "      <td>337</td>\n",
       "      <td>gate_30</td>\n",
       "      <td>38</td>\n",
       "      <td>1</td>\n",
       "      <td>0</td>\n",
       "    </tr>\n",
       "    <tr>\n",
       "      <th>2</th>\n",
       "      <td>377</td>\n",
       "      <td>gate_40</td>\n",
       "      <td>165</td>\n",
       "      <td>1</td>\n",
       "      <td>0</td>\n",
       "    </tr>\n",
       "    <tr>\n",
       "      <th>3</th>\n",
       "      <td>483</td>\n",
       "      <td>gate_40</td>\n",
       "      <td>1</td>\n",
       "      <td>0</td>\n",
       "      <td>0</td>\n",
       "    </tr>\n",
       "    <tr>\n",
       "      <th>4</th>\n",
       "      <td>488</td>\n",
       "      <td>gate_40</td>\n",
       "      <td>179</td>\n",
       "      <td>1</td>\n",
       "      <td>1</td>\n",
       "    </tr>\n",
       "  </tbody>\n",
       "</table>\n",
       "</div>"
      ],
      "text/plain": [
       "   userid  version  sum_gamerounds retention_1 retention_7\n",
       "0     116  gate_30               3           0           0\n",
       "1     337  gate_30              38           1           0\n",
       "2     377  gate_40             165           1           0\n",
       "3     483  gate_40               1           0           0\n",
       "4     488  gate_40             179           1           1"
      ]
     },
     "execution_count": 25,
     "metadata": {},
     "output_type": "execute_result"
    }
   ],
   "source": [
    "df.head()"
   ]
  },
  {
   "cell_type": "code",
   "execution_count": 26,
   "id": "af1bb6da",
   "metadata": {},
   "outputs": [
    {
     "data": {
      "text/plain": [
       "90189"
      ]
     },
     "execution_count": 26,
     "metadata": {},
     "output_type": "execute_result"
    }
   ],
   "source": [
    "len(df)"
   ]
  },
  {
   "cell_type": "code",
   "execution_count": 27,
   "id": "5fa3ec8f",
   "metadata": {},
   "outputs": [
    {
     "name": "stderr",
     "output_type": "stream",
     "text": [
      "/var/folders/ht/qs8tmmy5007cstwcxtpn4zjr0000gn/T/ipykernel_91201/359411529.py:3: DeprecationWarning: DataFrameGroupBy.apply operated on the grouping columns. This behavior is deprecated, and in a future version of pandas the grouping columns will be excluded from the operation. Either pass `include_groups=False` to exclude the groupings or explicitly select the grouping columns after groupby to silence this warning.\n",
      "  x.groupby('version').apply(lambda x: x.describe())\n"
     ]
    },
    {
     "data": {
      "text/html": [
       "<div>\n",
       "<style scoped>\n",
       "    .dataframe tbody tr th:only-of-type {\n",
       "        vertical-align: middle;\n",
       "    }\n",
       "\n",
       "    .dataframe tbody tr th {\n",
       "        vertical-align: top;\n",
       "    }\n",
       "\n",
       "    .dataframe thead th {\n",
       "        text-align: right;\n",
       "    }\n",
       "</style>\n",
       "<table border=\"1\" class=\"dataframe\">\n",
       "  <thead>\n",
       "    <tr style=\"text-align: right;\">\n",
       "      <th></th>\n",
       "      <th></th>\n",
       "      <th>userid</th>\n",
       "      <th>sum_gamerounds</th>\n",
       "    </tr>\n",
       "    <tr>\n",
       "      <th>version</th>\n",
       "      <th></th>\n",
       "      <th></th>\n",
       "      <th></th>\n",
       "    </tr>\n",
       "  </thead>\n",
       "  <tbody>\n",
       "    <tr>\n",
       "      <th rowspan=\"8\" valign=\"top\">gate_30</th>\n",
       "      <th>count</th>\n",
       "      <td>1.356600e+04</td>\n",
       "      <td>13566.000000</td>\n",
       "    </tr>\n",
       "    <tr>\n",
       "      <th>mean</th>\n",
       "      <td>4.991969e+06</td>\n",
       "      <td>145.713254</td>\n",
       "    </tr>\n",
       "    <tr>\n",
       "      <th>std</th>\n",
       "      <td>2.877189e+06</td>\n",
       "      <td>452.118758</td>\n",
       "    </tr>\n",
       "    <tr>\n",
       "      <th>min</th>\n",
       "      <td>2.218000e+03</td>\n",
       "      <td>40.000000</td>\n",
       "    </tr>\n",
       "    <tr>\n",
       "      <th>25%</th>\n",
       "      <td>2.531476e+06</td>\n",
       "      <td>57.000000</td>\n",
       "    </tr>\n",
       "    <tr>\n",
       "      <th>50%</th>\n",
       "      <td>4.960123e+06</td>\n",
       "      <td>90.000000</td>\n",
       "    </tr>\n",
       "    <tr>\n",
       "      <th>75%</th>\n",
       "      <td>7.481605e+06</td>\n",
       "      <td>167.000000</td>\n",
       "    </tr>\n",
       "    <tr>\n",
       "      <th>max</th>\n",
       "      <td>9.997757e+06</td>\n",
       "      <td>49854.000000</td>\n",
       "    </tr>\n",
       "    <tr>\n",
       "      <th rowspan=\"8\" valign=\"top\">gate_40</th>\n",
       "      <th>count</th>\n",
       "      <td>1.382700e+04</td>\n",
       "      <td>13827.000000</td>\n",
       "    </tr>\n",
       "    <tr>\n",
       "      <th>mean</th>\n",
       "      <td>5.028033e+06</td>\n",
       "      <td>142.667824</td>\n",
       "    </tr>\n",
       "    <tr>\n",
       "      <th>std</th>\n",
       "      <td>2.878797e+06</td>\n",
       "      <td>151.198353</td>\n",
       "    </tr>\n",
       "    <tr>\n",
       "      <th>min</th>\n",
       "      <td>3.770000e+02</td>\n",
       "      <td>40.000000</td>\n",
       "    </tr>\n",
       "    <tr>\n",
       "      <th>25%</th>\n",
       "      <td>2.529065e+06</td>\n",
       "      <td>58.000000</td>\n",
       "    </tr>\n",
       "    <tr>\n",
       "      <th>50%</th>\n",
       "      <td>5.033763e+06</td>\n",
       "      <td>92.000000</td>\n",
       "    </tr>\n",
       "    <tr>\n",
       "      <th>75%</th>\n",
       "      <td>7.510767e+06</td>\n",
       "      <td>165.000000</td>\n",
       "    </tr>\n",
       "    <tr>\n",
       "      <th>max</th>\n",
       "      <td>9.999768e+06</td>\n",
       "      <td>2640.000000</td>\n",
       "    </tr>\n",
       "  </tbody>\n",
       "</table>\n",
       "</div>"
      ],
      "text/plain": [
       "                     userid  sum_gamerounds\n",
       "version                                    \n",
       "gate_30 count  1.356600e+04    13566.000000\n",
       "        mean   4.991969e+06      145.713254\n",
       "        std    2.877189e+06      452.118758\n",
       "        min    2.218000e+03       40.000000\n",
       "        25%    2.531476e+06       57.000000\n",
       "        50%    4.960123e+06       90.000000\n",
       "        75%    7.481605e+06      167.000000\n",
       "        max    9.997757e+06    49854.000000\n",
       "gate_40 count  1.382700e+04    13827.000000\n",
       "        mean   5.028033e+06      142.667824\n",
       "        std    2.878797e+06      151.198353\n",
       "        min    3.770000e+02       40.000000\n",
       "        25%    2.529065e+06       58.000000\n",
       "        50%    5.033763e+06       92.000000\n",
       "        75%    7.510767e+06      165.000000\n",
       "        max    9.999768e+06     2640.000000"
      ]
     },
     "execution_count": 27,
     "metadata": {},
     "output_type": "execute_result"
    }
   ],
   "source": [
    "#check of pop that has more than \n",
    "x= df.query('sum_gamerounds >=40')\n",
    "x.groupby('version').apply(lambda x: x.describe())"
   ]
  },
  {
   "cell_type": "code",
   "execution_count": 28,
   "id": "d9e27ed9",
   "metadata": {},
   "outputs": [
    {
     "data": {
      "text/plain": [
       "version\n",
       "gate_40    45489\n",
       "gate_30    44700\n",
       "Name: count, dtype: int64"
      ]
     },
     "execution_count": 28,
     "metadata": {},
     "output_type": "execute_result"
    }
   ],
   "source": [
    "#participants in experiment\n",
    "df['version'].value_counts()"
   ]
  },
  {
   "cell_type": "code",
   "execution_count": 29,
   "id": "2f22f1aa",
   "metadata": {},
   "outputs": [
    {
     "data": {
      "image/png": "[encoded data removed]",
      "text/plain": [
       "<Figure size 640x480 with 1 Axes>"
      ]
     },
     "metadata": {},
     "output_type": "display_data"
    }
   ],
   "source": [
    "x['version'].value_counts().plot(kind='bar')\n",
    "plt.title(\"Group Sample Counts\")\n",
    "plt.xlabel(\"Group\")\n",
    "plt.ylabel(\"Player Count\")\n",
    "plt.xticks(rotation=0)\n",
    "plt.show()"
   ]
  },
  {
   "cell_type": "code",
   "execution_count": 30,
   "id": "86c0f837",
   "metadata": {},
   "outputs": [
    {
     "name": "stdout",
     "output_type": "stream",
     "text": [
      " Day 1 Retention:\n",
      " version\n",
      "gate_30    0.837609\n",
      "gate_40    0.830187\n",
      "Name: retention_1, dtype: object\n",
      "\n",
      " Day 7 Retention:\n",
      " version\n",
      "gate_30    0.502875\n",
      "gate_40    0.485065\n",
      "Name: retention_7, dtype: object\n"
     ]
    }
   ],
   "source": [
    "ret_1 = x.groupby(\"version\")[\"retention_1\"].mean()\n",
    "ret_7 = x.groupby(\"version\")[\"retention_7\"].mean()\n",
    "\n",
    "print(\" Day 1 Retention:\\n\", ret_1)\n",
    "print(\"\\n Day 7 Retention:\\n\", ret_7)"
   ]
  },
  {
   "cell_type": "code",
   "execution_count": 31,
   "id": "9f063f05",
   "metadata": {},
   "outputs": [
    {
     "data": {
      "image/png": "[encoded data removed]",
      "text/plain": [
       "<Figure size 640x480 with 1 Axes>"
      ]
     },
     "metadata": {},
     "output_type": "display_data"
    }
   ],
   "source": [
    "\n",
    "sns.histplot(data=x, x='sum_gamerounds', bins=100, kde=True)\n",
    "plt.title(\"Distribution of Game Rounds Played\")\n",
    "plt.xlabel(\"Total Game Rounds\")\n",
    "plt.ylabel(\"Player Count\")\n",
    "plt.xlim(0, 1000)  # Limit x-axis to focus on typical range\n",
    "plt.show()"
   ]
  },
  {
   "cell_type": "code",
   "execution_count": 32,
   "id": "8620c66a",
   "metadata": {},
   "outputs": [
    {
     "data": {
      "image/png": "[encoded data removed]",
      "text/plain": [
       "<Figure size 800x500 with 1 Axes>"
      ]
     },
     "metadata": {},
     "output_type": "display_data"
    }
   ],
   "source": [
    "plt.figure(figsize=(8, 5))\n",
    "sns.violinplot(data=x, x=\"version\", y=\"sum_gamerounds\")\n",
    "plt.yscale(\"log\")\n",
    "plt.title(\"Distribution of Games by Version (Log Scale)\")\n",
    "plt.xlabel(\"Game Version\")\n",
    "plt.ylabel(\"Rounds Played\")\n",
    "plt.show()"
   ]
  },
  {
   "cell_type": "code",
   "execution_count": 33,
   "id": "4a341ee3",
   "metadata": {},
   "outputs": [
    {
     "data": {
      "image/png": "[encoded data removed]",
      "text/plain": [
       "<Figure size 1000x200 with 1 Axes>"
      ]
     },
     "metadata": {},
     "output_type": "display_data"
    }
   ],
   "source": [
    "#uncorrected IQR\n",
    "plt.figure(figsize=(10, 2))  \n",
    "\n",
    "sns.boxplot(x=x[\"sum_gamerounds\"])\n",
    "plt.title(\"Boxplot of Game Rounds Played (No Scaling)\")\n",
    "plt.xlabel(\"sum_gamerounds\")\n",
    "plt.xlim(0, df[\"sum_gamerounds\"].quantile(0.99))  \n",
    "plt.show()"
   ]
  },
  {
   "cell_type": "code",
   "execution_count": 34,
   "id": "a666b234",
   "metadata": {},
   "outputs": [
    {
     "name": "stderr",
     "output_type": "stream",
     "text": [
      "/var/folders/ht/qs8tmmy5007cstwcxtpn4zjr0000gn/T/ipykernel_91201/421979701.py:1: SettingWithCopyWarning: \n",
      "A value is trying to be set on a copy of a slice from a DataFrame.\n",
      "Try using .loc[row_indexer,col_indexer] = value instead\n",
      "\n",
      "See the caveats in the documentation: https://pandas.pydata.org/pandas-docs/stable/user_guide/indexing.html#returning-a-view-versus-a-copy\n",
      "  x['logonly']=np.log1p(x['sum_gamerounds'])\n"
     ]
    },
    {
     "data": {
      "image/png": "[encoded data removed]",
      "text/plain": [
       "<Figure size 1000x200 with 1 Axes>"
      ]
     },
     "metadata": {},
     "output_type": "display_data"
    }
   ],
   "source": [
    " \n",
    "x['logonly']=np.log1p(x['sum_gamerounds'])  \n",
    "\n",
    "plt.figure(figsize=(10, 2))  \n",
    "sns.boxplot(x=x['logonly'])\n",
    "plt.title(\"Boxplot of Game Rounds Played (After Scaling)\")\n",
    "plt.xlabel(\"log sum_gamerounds\")\n",
    "plt.xlim(0, 15)  \n",
    "plt.show()"
   ]
  },
  {
   "cell_type": "markdown",
   "id": "7815517a",
   "metadata": {},
   "source": [
    "### X^2 Test"
   ]
  },
  {
   "cell_type": "code",
   "execution_count": 35,
   "id": "da293568",
   "metadata": {},
   "outputs": [],
   "source": [
    "from scipy.stats import chi2_contingency\n",
    "\n",
    "day1_table = pd.crosstab(x['version'], x['retention_1'])\n",
    "day7_table = pd.crosstab(x['version'], x['retention_7'])\n",
    "# Perform chi-squared test\n",
    "chi2_day1, p1, _, _ = chi2_contingency(day1_table)\n",
    "chi2_day7, p7, _, _ = chi2_contingency(day7_table)"
   ]
  },
  {
   "cell_type": "code",
   "execution_count": 36,
   "id": "6b29d6e4",
   "metadata": {},
   "outputs": [
    {
     "name": "stdout",
     "output_type": "stream",
     "text": [
      "Chi-Squared Test Results\n",
      "-------------------------\n",
      "Day 1 retention: p-value = 0.10231\n",
      "Day 7 retention: p-value = 0.00333\n"
     ]
    }
   ],
   "source": [
    "\n",
    "print(\"Chi-Squared Test Results\")\n",
    "print(\"-------------------------\")\n",
    "print(f\"Day 1 retention: p-value = {p1:.5f}\")\n",
    "print(f\"Day 7 retention: p-value = {p7:.5f}\")"
   ]
  },
  {
   "cell_type": "code",
   "execution_count": 37,
   "id": "ab3b30ca",
   "metadata": {},
   "outputs": [
    {
     "data": {
      "text/html": [
       "<div>\n",
       "<style scoped>\n",
       "    .dataframe tbody tr th:only-of-type {\n",
       "        vertical-align: middle;\n",
       "    }\n",
       "\n",
       "    .dataframe tbody tr th {\n",
       "        vertical-align: top;\n",
       "    }\n",
       "\n",
       "    .dataframe thead th {\n",
       "        text-align: right;\n",
       "    }\n",
       "</style>\n",
       "<table border=\"1\" class=\"dataframe\">\n",
       "  <thead>\n",
       "    <tr style=\"text-align: right;\">\n",
       "      <th>retention_1</th>\n",
       "      <th>0</th>\n",
       "      <th>1</th>\n",
       "    </tr>\n",
       "    <tr>\n",
       "      <th>version</th>\n",
       "      <th></th>\n",
       "      <th></th>\n",
       "    </tr>\n",
       "  </thead>\n",
       "  <tbody>\n",
       "    <tr>\n",
       "      <th>gate_30</th>\n",
       "      <td>2203</td>\n",
       "      <td>11363</td>\n",
       "    </tr>\n",
       "    <tr>\n",
       "      <th>gate_40</th>\n",
       "      <td>2348</td>\n",
       "      <td>11479</td>\n",
       "    </tr>\n",
       "  </tbody>\n",
       "</table>\n",
       "</div>"
      ],
      "text/plain": [
       "retention_1     0      1\n",
       "version                 \n",
       "gate_30      2203  11363\n",
       "gate_40      2348  11479"
      ]
     },
     "execution_count": 37,
     "metadata": {},
     "output_type": "execute_result"
    }
   ],
   "source": [
    "day1_table"
   ]
  },
  {
   "cell_type": "code",
   "execution_count": 38,
   "id": "e92d24e6",
   "metadata": {},
   "outputs": [
    {
     "data": {
      "text/html": [
       "<div>\n",
       "<style scoped>\n",
       "    .dataframe tbody tr th:only-of-type {\n",
       "        vertical-align: middle;\n",
       "    }\n",
       "\n",
       "    .dataframe tbody tr th {\n",
       "        vertical-align: top;\n",
       "    }\n",
       "\n",
       "    .dataframe thead th {\n",
       "        text-align: right;\n",
       "    }\n",
       "</style>\n",
       "<table border=\"1\" class=\"dataframe\">\n",
       "  <thead>\n",
       "    <tr style=\"text-align: right;\">\n",
       "      <th>retention_7</th>\n",
       "      <th>0</th>\n",
       "      <th>1</th>\n",
       "    </tr>\n",
       "    <tr>\n",
       "      <th>version</th>\n",
       "      <th></th>\n",
       "      <th></th>\n",
       "    </tr>\n",
       "  </thead>\n",
       "  <tbody>\n",
       "    <tr>\n",
       "      <th>gate_30</th>\n",
       "      <td>6744</td>\n",
       "      <td>6822</td>\n",
       "    </tr>\n",
       "    <tr>\n",
       "      <th>gate_40</th>\n",
       "      <td>7120</td>\n",
       "      <td>6707</td>\n",
       "    </tr>\n",
       "  </tbody>\n",
       "</table>\n",
       "</div>"
      ],
      "text/plain": [
       "retention_7     0     1\n",
       "version                \n",
       "gate_30      6744  6822\n",
       "gate_40      7120  6707"
      ]
     },
     "execution_count": 38,
     "metadata": {},
     "output_type": "execute_result"
    }
   ],
   "source": [
    "day7_table"
   ]
  },
  {
   "cell_type": "markdown",
   "id": "fc81a930",
   "metadata": {},
   "source": [
    "### Mann Whitney Test"
   ]
  },
  {
   "cell_type": "code",
   "execution_count": 39,
   "id": "6ec3fd47",
   "metadata": {},
   "outputs": [
    {
     "name": "stdout",
     "output_type": "stream",
     "text": [
      "U-Statistic= 92552991.50000\n",
      "p-value = 0.05900\n"
     ]
    }
   ],
   "source": [
    "\n",
    "z=x.query('version==\"gate_30\"')['logonly']\n",
    "y=x.query('version==\"gate_40\"')['logonly']\n",
    "\n",
    "u_stat,p_value=mannwhitneyu(z,y)\n",
    "print(f\"U-Statistic= {u_stat:.5f}\")\n",
    "print(f\"p-value = {p_value:.5f}\")\n"
   ]
  },
  {
   "cell_type": "markdown",
   "id": "a5d3c030",
   "metadata": {},
   "source": [
    "### Looking back at the group statistics"
   ]
  },
  {
   "cell_type": "code",
   "execution_count": 108,
   "id": "cc921006",
   "metadata": {},
   "outputs": [
    {
     "name": "stderr",
     "output_type": "stream",
     "text": [
      "/var/folders/ht/qs8tmmy5007cstwcxtpn4zjr0000gn/T/ipykernel_60128/3889977414.py:1: DeprecationWarning: DataFrameGroupBy.apply operated on the grouping columns. This behavior is deprecated, and in a future version of pandas the grouping columns will be excluded from the operation. Either pass `include_groups=False` to exclude the groupings or explicitly select the grouping columns after groupby to silence this warning.\n",
      "  df.groupby('version').apply(lambda x: x.describe())\n"
     ]
    },
    {
     "data": {
      "text/html": [
       "<div>\n",
       "<style scoped>\n",
       "    .dataframe tbody tr th:only-of-type {\n",
       "        vertical-align: middle;\n",
       "    }\n",
       "\n",
       "    .dataframe tbody tr th {\n",
       "        vertical-align: top;\n",
       "    }\n",
       "\n",
       "    .dataframe thead th {\n",
       "        text-align: right;\n",
       "    }\n",
       "</style>\n",
       "<table border=\"1\" class=\"dataframe\">\n",
       "  <thead>\n",
       "    <tr style=\"text-align: right;\">\n",
       "      <th></th>\n",
       "      <th></th>\n",
       "      <th>userid</th>\n",
       "      <th>sum_gamerounds</th>\n",
       "      <th>logonly</th>\n",
       "    </tr>\n",
       "    <tr>\n",
       "      <th>version</th>\n",
       "      <th></th>\n",
       "      <th></th>\n",
       "      <th></th>\n",
       "      <th></th>\n",
       "    </tr>\n",
       "  </thead>\n",
       "  <tbody>\n",
       "    <tr>\n",
       "      <th rowspan=\"8\" valign=\"top\">gate_30</th>\n",
       "      <th>count</th>\n",
       "      <td>4.470000e+04</td>\n",
       "      <td>44700.000000</td>\n",
       "      <td>44700.000000</td>\n",
       "    </tr>\n",
       "    <tr>\n",
       "      <th>mean</th>\n",
       "      <td>4.987564e+06</td>\n",
       "      <td>52.456264</td>\n",
       "      <td>2.888910</td>\n",
       "    </tr>\n",
       "    <tr>\n",
       "      <th>std</th>\n",
       "      <td>2.881026e+06</td>\n",
       "      <td>256.716423</td>\n",
       "      <td>1.498278</td>\n",
       "    </tr>\n",
       "    <tr>\n",
       "      <th>min</th>\n",
       "      <td>1.160000e+02</td>\n",
       "      <td>0.000000</td>\n",
       "      <td>0.000000</td>\n",
       "    </tr>\n",
       "    <tr>\n",
       "      <th>25%</th>\n",
       "      <td>2.505469e+06</td>\n",
       "      <td>5.000000</td>\n",
       "      <td>1.791759</td>\n",
       "    </tr>\n",
       "    <tr>\n",
       "      <th>50%</th>\n",
       "      <td>4.983631e+06</td>\n",
       "      <td>17.000000</td>\n",
       "      <td>2.890372</td>\n",
       "    </tr>\n",
       "    <tr>\n",
       "      <th>75%</th>\n",
       "      <td>7.481497e+06</td>\n",
       "      <td>50.000000</td>\n",
       "      <td>3.931826</td>\n",
       "    </tr>\n",
       "    <tr>\n",
       "      <th>max</th>\n",
       "      <td>9.999710e+06</td>\n",
       "      <td>49854.000000</td>\n",
       "      <td>10.816874</td>\n",
       "    </tr>\n",
       "    <tr>\n",
       "      <th rowspan=\"8\" valign=\"top\">gate_40</th>\n",
       "      <th>count</th>\n",
       "      <td>4.548900e+04</td>\n",
       "      <td>45489.000000</td>\n",
       "      <td>45489.000000</td>\n",
       "    </tr>\n",
       "    <tr>\n",
       "      <th>mean</th>\n",
       "      <td>5.009073e+06</td>\n",
       "      <td>51.298776</td>\n",
       "      <td>2.870742</td>\n",
       "    </tr>\n",
       "    <tr>\n",
       "      <th>std</th>\n",
       "      <td>2.885496e+06</td>\n",
       "      <td>103.294416</td>\n",
       "      <td>1.509153</td>\n",
       "    </tr>\n",
       "    <tr>\n",
       "      <th>min</th>\n",
       "      <td>3.770000e+02</td>\n",
       "      <td>0.000000</td>\n",
       "      <td>0.000000</td>\n",
       "    </tr>\n",
       "    <tr>\n",
       "      <th>25%</th>\n",
       "      <td>2.517171e+06</td>\n",
       "      <td>5.000000</td>\n",
       "      <td>1.791759</td>\n",
       "    </tr>\n",
       "    <tr>\n",
       "      <th>50%</th>\n",
       "      <td>5.007329e+06</td>\n",
       "      <td>16.000000</td>\n",
       "      <td>2.833213</td>\n",
       "    </tr>\n",
       "    <tr>\n",
       "      <th>75%</th>\n",
       "      <td>7.510762e+06</td>\n",
       "      <td>52.000000</td>\n",
       "      <td>3.970292</td>\n",
       "    </tr>\n",
       "    <tr>\n",
       "      <th>max</th>\n",
       "      <td>9.999861e+06</td>\n",
       "      <td>2640.000000</td>\n",
       "      <td>7.878913</td>\n",
       "    </tr>\n",
       "  </tbody>\n",
       "</table>\n",
       "</div>"
      ],
      "text/plain": [
       "                     userid  sum_gamerounds       logonly\n",
       "version                                                  \n",
       "gate_30 count  4.470000e+04    44700.000000  44700.000000\n",
       "        mean   4.987564e+06       52.456264      2.888910\n",
       "        std    2.881026e+06      256.716423      1.498278\n",
       "        min    1.160000e+02        0.000000      0.000000\n",
       "        25%    2.505469e+06        5.000000      1.791759\n",
       "        50%    4.983631e+06       17.000000      2.890372\n",
       "        75%    7.481497e+06       50.000000      3.931826\n",
       "        max    9.999710e+06    49854.000000     10.816874\n",
       "gate_40 count  4.548900e+04    45489.000000  45489.000000\n",
       "        mean   5.009073e+06       51.298776      2.870742\n",
       "        std    2.885496e+06      103.294416      1.509153\n",
       "        min    3.770000e+02        0.000000      0.000000\n",
       "        25%    2.517171e+06        5.000000      1.791759\n",
       "        50%    5.007329e+06       16.000000      2.833213\n",
       "        75%    7.510762e+06       52.000000      3.970292\n",
       "        max    9.999861e+06     2640.000000      7.878913"
      ]
     },
     "execution_count": 108,
     "metadata": {},
     "output_type": "execute_result"
    }
   ],
   "source": [
    "df.groupby('version').apply(lambda x: x.describe())"
   ]
  },
  {
   "cell_type": "code",
   "execution_count": 41,
   "id": "49d653ed",
   "metadata": {},
   "outputs": [],
   "source": [
    "x.loc[x['retention_1']== 1, 'retention_1'] = 'True'\n",
    "x.loc[x['retention_1']== 0, 'retention_1'] = 'False'\n",
    "x.loc[x['retention_7']== 1, 'retention_7'] = 'True'\n",
    "x.loc[x['retention_7']== 0, 'retention_7'] = 'False'\n",
    "x.to_csv('~/Desktop/x.csv')"
   ]
  },
  {
   "cell_type": "code",
   "execution_count": null,
   "id": "a7a34439",
   "metadata": {},
   "outputs": [],
   "source": []
  }
 ],
 "metadata": {
  "kernelspec": {
   "display_name": "Python 3",
   "language": "python",
   "name": "python3"
  },
  "language_info": {
   "codemirror_mode": {
    "name": "ipython",
    "version": 3
   },
   "file_extension": ".py",
   "mimetype": "text/x-python",
   "name": "python",
   "nbconvert_exporter": "python",
   "pygments_lexer": "ipython3",
   "version": "3.13.3"
  }
 },
 "nbformat": 4,
 "nbformat_minor": 5
}
